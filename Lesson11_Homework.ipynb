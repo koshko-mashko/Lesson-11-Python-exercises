{
 "cells": [
  {
   "cell_type": "markdown",
   "metadata": {},
   "source": [
    "Task 1\n",
    "Write a function that takes a list of strings and a name as an input and returns a boolean value that indicates if the name is present in the list. Do this by using a for-loop."
   ]
  },
  {
   "cell_type": "code",
   "execution_count": 10,
   "metadata": {},
   "outputs": [
    {
     "name": "stdout",
     "output_type": "stream",
     "text": [
      "Enter list of strings separated by a space:\n",
      "['Pol', 'Roy', 'Clara', 'Carl']\n",
      "Enter Name:\n",
      "Sam\n"
     ]
    },
    {
     "data": {
      "text/plain": [
       "False"
      ]
     },
     "execution_count": 10,
     "metadata": {},
     "output_type": "execute_result"
    }
   ],
   "source": [
    "print('Enter list of strings separated by a space:') # ask for a list of strings from user\n",
    "list_of_strings = input() # take the list of strings from user\n",
    "list_of_strings = list_of_strings.split() # split it to separate elements\n",
    "print(list_of_strings) # show the list\n",
    "print('Enter Name:') # ask for the name\n",
    "Name = input() #show the name\n",
    "print(Name)\n",
    "def CheckForTheName(list_of_strings, Name):\n",
    "    Name_checks_in = False\n",
    "    for String in list_of_strings: #this for-loop will change the Boolean to True only if name is among strings in list, otherwise it will remain False\n",
    "        if String == Name:\n",
    "            Name_checks_in = True\n",
    "    return Name_checks_in\n",
    "    \n",
    "\n",
    "CheckForTheName(list_of_strings, Name)\n",
    "\n",
    "    "
   ]
  },
  {
   "cell_type": "markdown",
   "metadata": {},
   "source": [
    "Task 2\n",
    "Write a while loop that adds all the numbers up to 100 (inclusive).\n",
    "The answer should be 5050"
   ]
  },
  {
   "cell_type": "code",
   "execution_count": 12,
   "metadata": {},
   "outputs": [
    {
     "name": "stdout",
     "output_type": "stream",
     "text": [
      "5050\n"
     ]
    }
   ],
   "source": [
    "i = 0 #starting number\n",
    "summ_of_100 = 0 #starting sum\n",
    "while i < 100: \n",
    "    i = i+1\n",
    "    summ_of_100 = summ_of_100 + i\n",
    "       \n",
    "print(summ_of_100)"
   ]
  },
  {
   "cell_type": "markdown",
   "metadata": {},
   "source": [
    "Task 3\n",
    "Write a function that starts with any integer value. As long as the value is smaller than 10 000 000 do the following three steps.\n",
    "\n",
    "1. add 10 to the current value (in the first iteration its your starting value)\n",
    "2. multiply the value with a quarter of the value x * (x/4)\n",
    "3. divide the value by seven\n"
   ]
  },
  {
   "cell_type": "code",
   "execution_count": 19,
   "metadata": {},
   "outputs": [
    {
     "name": "stdout",
     "output_type": "stream",
     "text": [
      "(486675231.5986306, 11)\n",
      "(304680029941.50604, 10)\n",
      "(66422899372.8935, 5)\n",
      "(13697799.8678026, 3)\n",
      "(3409247150059.4326, 4)\n",
      "(33268674.953531574, 3)\n"
     ]
    }
   ],
   "source": [
    "\n",
    "\n",
    "def Function1(n):\n",
    "    iterations = 0 #start counter of iterations\n",
    "    while n <= 10000000: #set upper cut-off\n",
    "        n = n + 10 #add 10 to the current value (in the first iteration its your starting value)\n",
    "        n = n * (n / 4) #multiply the value with a quarter of the value x * (x/4)\n",
    "        n = n / 7 #divide the value by seven\n",
    "        iterations = iterations + 1 #count iterations\n",
    "    return n, iterations\n",
    "    # or print(f'Number:{n}, iterations: {iterations}')\n",
    "print(Function1(0))\n",
    "print(Function1(5))\n",
    "print(Function1(42))\n",
    "print(Function1(133))\n",
    "print(Function1(127))\n",
    "print(Function1(150))"
   ]
  },
  {
   "cell_type": "markdown",
   "metadata": {},
   "source": [
    "Task 4\n",
    "\n",
    "Now write a function that calls your function for all numbers starting with 0 and ending with 150. The function should return the maximum number possible, the starting number and the iterations it took.\n"
   ]
  },
  {
   "cell_type": "code",
   "execution_count": 29,
   "metadata": {},
   "outputs": [
    {
     "data": {
      "text/plain": [
       "(3409247150059.4326, 4, 127)"
      ]
     },
     "execution_count": 29,
     "metadata": {},
     "output_type": "execute_result"
    }
   ],
   "source": [
    "def Function2():\n",
    "    max_iterations = 0\n",
    "    max_result = 0\n",
    "    start_max_n = 0\n",
    "    for n in range(151): #calls function for all numbers starting with 0 and ending with 150\n",
    "        result, iterations = Function1(n)\n",
    "        \n",
    "        if result > max_result: #set the cut-off for maximal result of the Function1 in range of 0-150\n",
    "            max_result = result #each time result is greater than previous, it is stored in max_result value\n",
    "            max_iterations = iterations #so as iterations and n. As soom as if-clause is false, values stop changing.\n",
    "            start_max_n = n\n",
    "            \n",
    "            \n",
    "    return max_result, max_iterations, start_max_n\n",
    "\n",
    "Function2()"
   ]
  }
 ],
 "metadata": {
  "kernelspec": {
   "display_name": "Python 3.10.8 64-bit",
   "language": "python",
   "name": "python3"
  },
  "language_info": {
   "codemirror_mode": {
    "name": "ipython",
    "version": 3
   },
   "file_extension": ".py",
   "mimetype": "text/x-python",
   "name": "python",
   "nbconvert_exporter": "python",
   "pygments_lexer": "ipython3",
   "version": "3.10.8"
  },
  "orig_nbformat": 4,
  "vscode": {
   "interpreter": {
    "hash": "39b7f9ead60384a727657da2a0e5c16397da03ee60763edb7307205fe0983a98"
   }
  }
 },
 "nbformat": 4,
 "nbformat_minor": 2
}
